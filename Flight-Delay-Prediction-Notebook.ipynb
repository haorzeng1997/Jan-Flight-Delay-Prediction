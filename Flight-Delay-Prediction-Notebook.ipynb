{
 "cells": [
  {
   "source": [
    "# US January Flight Delay Prediction\n"
   ],
   "cell_type": "markdown",
   "metadata": {}
  },
  {
   "source": [
    "***\n",
    "- Created a classification model (f1 score: 0.75 & accuracy score: 0.94) to predict whether a flight would delay or not based on features including distance, departure airports, arrival airports and etc.\n",
    "\n",
    "- Utilized 1.19 million pieces of flight information to build the model and conduct analysis.\n",
    "\n",
    "- Engineered features from text and categorical data to boost efficiency.\n",
    "\n",
    "- Optimized Decision Tree and Random Forest models using RandomizedSearchCV.\n",
    "\n",
    "- Evaluated models using f1 score when dealing with imbalanced classes."
   ],
   "cell_type": "markdown",
   "metadata": {}
  },
  {
   "source": [
    "***\n",
    "Python Version: 3.8\n",
    "\n",
    "Packages: pandas, numpy, sklearn, matplotlib, seaborn"
   ],
   "cell_type": "markdown",
   "metadata": {}
  },
  {
   "source": [
    "***\n",
    "## Import packages"
   ],
   "cell_type": "markdown",
   "metadata": {}
  },
  {
   "cell_type": "code",
   "execution_count": 1,
   "metadata": {},
   "outputs": [],
   "source": [
    "import numpy as np\n",
    "import pandas as pd\n",
    "%matplotlib inline\n",
    "import matplotlib.pyplot as plt\n",
    "import matplotlib.ticker as ticker\n",
    "import seaborn as sns\n",
    "import warnings\n",
    "warnings.filterwarnings(\"ignore\")\n",
    "from sklearn.model_selection import train_test_split\n",
    "from sklearn import metrics\n",
    "from sklearn.tree import DecisionTreeClassifier\n",
    "from sklearn.model_selection import RandomizedSearchCV\n",
    "from sklearn.metrics import accuracy_score\n",
    "from sklearn.metrics import f1_score\n",
    "from sklearn.ensemble import RandomForestClassifier"
   ]
  },
  {
   "source": [
    "***\n",
    "## Data Cleansing"
   ],
   "cell_type": "markdown",
   "metadata": {}
  },
  {
   "cell_type": "code",
   "execution_count": 2,
   "metadata": {},
   "outputs": [],
   "source": [
    "df_2019 = pd.read_csv(\"Jan_2019_ontime.csv\")\n",
    "df_2020 = pd.read_csv(\"Jan_2020_ontime.csv\")"
   ]
  },
  {
   "cell_type": "code",
   "execution_count": 3,
   "metadata": {},
   "outputs": [
    {
     "data": {
      "text/html": [
       "<div>\n",
       "<style scoped>\n",
       "    .dataframe tbody tr th:only-of-type {\n",
       "        vertical-align: middle;\n",
       "    }\n",
       "\n",
       "    .dataframe tbody tr th {\n",
       "        vertical-align: top;\n",
       "    }\n",
       "\n",
       "    .dataframe thead th {\n",
       "        text-align: right;\n",
       "    }\n",
       "</style>\n",
       "<table border=\"1\" class=\"dataframe\">\n",
       "  <thead>\n",
       "    <tr style=\"text-align: right;\">\n",
       "      <th></th>\n",
       "      <th>DAY_OF_MONTH</th>\n",
       "      <th>DAY_OF_WEEK</th>\n",
       "      <th>OP_UNIQUE_CARRIER</th>\n",
       "      <th>OP_CARRIER_AIRLINE_ID</th>\n",
       "      <th>OP_CARRIER</th>\n",
       "      <th>TAIL_NUM</th>\n",
       "      <th>OP_CARRIER_FL_NUM</th>\n",
       "      <th>ORIGIN_AIRPORT_ID</th>\n",
       "      <th>ORIGIN_AIRPORT_SEQ_ID</th>\n",
       "      <th>ORIGIN</th>\n",
       "      <th>...</th>\n",
       "      <th>DEST</th>\n",
       "      <th>DEP_TIME</th>\n",
       "      <th>DEP_DEL15</th>\n",
       "      <th>DEP_TIME_BLK</th>\n",
       "      <th>ARR_TIME</th>\n",
       "      <th>ARR_DEL15</th>\n",
       "      <th>CANCELLED</th>\n",
       "      <th>DIVERTED</th>\n",
       "      <th>DISTANCE</th>\n",
       "      <th>Unnamed: 21</th>\n",
       "    </tr>\n",
       "  </thead>\n",
       "  <tbody>\n",
       "    <tr>\n",
       "      <th>0</th>\n",
       "      <td>1</td>\n",
       "      <td>3</td>\n",
       "      <td>EV</td>\n",
       "      <td>20366</td>\n",
       "      <td>EV</td>\n",
       "      <td>N48901</td>\n",
       "      <td>4397</td>\n",
       "      <td>13930</td>\n",
       "      <td>1393007</td>\n",
       "      <td>ORD</td>\n",
       "      <td>...</td>\n",
       "      <td>GRB</td>\n",
       "      <td>1003.0</td>\n",
       "      <td>0.0</td>\n",
       "      <td>1000-1059</td>\n",
       "      <td>1117.0</td>\n",
       "      <td>0.0</td>\n",
       "      <td>0.0</td>\n",
       "      <td>0.0</td>\n",
       "      <td>174.0</td>\n",
       "      <td>NaN</td>\n",
       "    </tr>\n",
       "    <tr>\n",
       "      <th>1</th>\n",
       "      <td>1</td>\n",
       "      <td>3</td>\n",
       "      <td>EV</td>\n",
       "      <td>20366</td>\n",
       "      <td>EV</td>\n",
       "      <td>N16976</td>\n",
       "      <td>4401</td>\n",
       "      <td>15370</td>\n",
       "      <td>1537002</td>\n",
       "      <td>TUL</td>\n",
       "      <td>...</td>\n",
       "      <td>ORD</td>\n",
       "      <td>1027.0</td>\n",
       "      <td>0.0</td>\n",
       "      <td>1000-1059</td>\n",
       "      <td>1216.0</td>\n",
       "      <td>0.0</td>\n",
       "      <td>0.0</td>\n",
       "      <td>0.0</td>\n",
       "      <td>585.0</td>\n",
       "      <td>NaN</td>\n",
       "    </tr>\n",
       "    <tr>\n",
       "      <th>2</th>\n",
       "      <td>1</td>\n",
       "      <td>3</td>\n",
       "      <td>EV</td>\n",
       "      <td>20366</td>\n",
       "      <td>EV</td>\n",
       "      <td>N12167</td>\n",
       "      <td>4404</td>\n",
       "      <td>11618</td>\n",
       "      <td>1161802</td>\n",
       "      <td>EWR</td>\n",
       "      <td>...</td>\n",
       "      <td>TYS</td>\n",
       "      <td>1848.0</td>\n",
       "      <td>0.0</td>\n",
       "      <td>1800-1859</td>\n",
       "      <td>2120.0</td>\n",
       "      <td>0.0</td>\n",
       "      <td>0.0</td>\n",
       "      <td>0.0</td>\n",
       "      <td>631.0</td>\n",
       "      <td>NaN</td>\n",
       "    </tr>\n",
       "    <tr>\n",
       "      <th>3</th>\n",
       "      <td>1</td>\n",
       "      <td>3</td>\n",
       "      <td>EV</td>\n",
       "      <td>20366</td>\n",
       "      <td>EV</td>\n",
       "      <td>N14902</td>\n",
       "      <td>4405</td>\n",
       "      <td>10781</td>\n",
       "      <td>1078105</td>\n",
       "      <td>BTR</td>\n",
       "      <td>...</td>\n",
       "      <td>IAH</td>\n",
       "      <td>1846.0</td>\n",
       "      <td>0.0</td>\n",
       "      <td>1800-1859</td>\n",
       "      <td>2004.0</td>\n",
       "      <td>0.0</td>\n",
       "      <td>0.0</td>\n",
       "      <td>0.0</td>\n",
       "      <td>253.0</td>\n",
       "      <td>NaN</td>\n",
       "    </tr>\n",
       "    <tr>\n",
       "      <th>4</th>\n",
       "      <td>1</td>\n",
       "      <td>3</td>\n",
       "      <td>EV</td>\n",
       "      <td>20366</td>\n",
       "      <td>EV</td>\n",
       "      <td>N606UX</td>\n",
       "      <td>4407</td>\n",
       "      <td>14524</td>\n",
       "      <td>1452401</td>\n",
       "      <td>RIC</td>\n",
       "      <td>...</td>\n",
       "      <td>IAH</td>\n",
       "      <td>1038.0</td>\n",
       "      <td>0.0</td>\n",
       "      <td>1000-1059</td>\n",
       "      <td>1330.0</td>\n",
       "      <td>0.0</td>\n",
       "      <td>0.0</td>\n",
       "      <td>0.0</td>\n",
       "      <td>1157.0</td>\n",
       "      <td>NaN</td>\n",
       "    </tr>\n",
       "  </tbody>\n",
       "</table>\n",
       "<p>5 rows × 22 columns</p>\n",
       "</div>"
      ],
      "text/plain": [
       "   DAY_OF_MONTH  DAY_OF_WEEK OP_UNIQUE_CARRIER  OP_CARRIER_AIRLINE_ID  \\\n",
       "0             1            3                EV                  20366   \n",
       "1             1            3                EV                  20366   \n",
       "2             1            3                EV                  20366   \n",
       "3             1            3                EV                  20366   \n",
       "4             1            3                EV                  20366   \n",
       "\n",
       "  OP_CARRIER TAIL_NUM  OP_CARRIER_FL_NUM  ORIGIN_AIRPORT_ID  \\\n",
       "0         EV   N48901               4397              13930   \n",
       "1         EV   N16976               4401              15370   \n",
       "2         EV   N12167               4404              11618   \n",
       "3         EV   N14902               4405              10781   \n",
       "4         EV   N606UX               4407              14524   \n",
       "\n",
       "   ORIGIN_AIRPORT_SEQ_ID ORIGIN  ...  DEST  DEP_TIME DEP_DEL15  DEP_TIME_BLK  \\\n",
       "0                1393007    ORD  ...   GRB    1003.0       0.0     1000-1059   \n",
       "1                1537002    TUL  ...   ORD    1027.0       0.0     1000-1059   \n",
       "2                1161802    EWR  ...   TYS    1848.0       0.0     1800-1859   \n",
       "3                1078105    BTR  ...   IAH    1846.0       0.0     1800-1859   \n",
       "4                1452401    RIC  ...   IAH    1038.0       0.0     1000-1059   \n",
       "\n",
       "   ARR_TIME ARR_DEL15  CANCELLED  DIVERTED  DISTANCE  Unnamed: 21  \n",
       "0    1117.0       0.0        0.0       0.0     174.0          NaN  \n",
       "1    1216.0       0.0        0.0       0.0     585.0          NaN  \n",
       "2    2120.0       0.0        0.0       0.0     631.0          NaN  \n",
       "3    2004.0       0.0        0.0       0.0     253.0          NaN  \n",
       "4    1330.0       0.0        0.0       0.0    1157.0          NaN  \n",
       "\n",
       "[5 rows x 22 columns]"
      ]
     },
     "execution_count": 3,
     "metadata": {},
     "output_type": "execute_result"
    }
   ],
   "source": [
    "df_2020.head()"
   ]
  },
  {
   "cell_type": "code",
   "execution_count": 4,
   "metadata": {},
   "outputs": [
    {
     "data": {
      "text/html": [
       "<div>\n",
       "<style scoped>\n",
       "    .dataframe tbody tr th:only-of-type {\n",
       "        vertical-align: middle;\n",
       "    }\n",
       "\n",
       "    .dataframe tbody tr th {\n",
       "        vertical-align: top;\n",
       "    }\n",
       "\n",
       "    .dataframe thead th {\n",
       "        text-align: right;\n",
       "    }\n",
       "</style>\n",
       "<table border=\"1\" class=\"dataframe\">\n",
       "  <thead>\n",
       "    <tr style=\"text-align: right;\">\n",
       "      <th></th>\n",
       "      <th>DAY_OF_MONTH</th>\n",
       "      <th>DAY_OF_WEEK</th>\n",
       "      <th>OP_UNIQUE_CARRIER</th>\n",
       "      <th>OP_CARRIER_AIRLINE_ID</th>\n",
       "      <th>OP_CARRIER</th>\n",
       "      <th>TAIL_NUM</th>\n",
       "      <th>OP_CARRIER_FL_NUM</th>\n",
       "      <th>ORIGIN_AIRPORT_ID</th>\n",
       "      <th>ORIGIN_AIRPORT_SEQ_ID</th>\n",
       "      <th>ORIGIN</th>\n",
       "      <th>...</th>\n",
       "      <th>DEST</th>\n",
       "      <th>DEP_TIME</th>\n",
       "      <th>DEP_DEL15</th>\n",
       "      <th>DEP_TIME_BLK</th>\n",
       "      <th>ARR_TIME</th>\n",
       "      <th>ARR_DEL15</th>\n",
       "      <th>CANCELLED</th>\n",
       "      <th>DIVERTED</th>\n",
       "      <th>DISTANCE</th>\n",
       "      <th>Unnamed: 21</th>\n",
       "    </tr>\n",
       "  </thead>\n",
       "  <tbody>\n",
       "    <tr>\n",
       "      <th>0</th>\n",
       "      <td>1</td>\n",
       "      <td>2</td>\n",
       "      <td>9E</td>\n",
       "      <td>20363</td>\n",
       "      <td>9E</td>\n",
       "      <td>N8688C</td>\n",
       "      <td>3280</td>\n",
       "      <td>11953</td>\n",
       "      <td>1195302</td>\n",
       "      <td>GNV</td>\n",
       "      <td>...</td>\n",
       "      <td>ATL</td>\n",
       "      <td>601.0</td>\n",
       "      <td>0.0</td>\n",
       "      <td>0600-0659</td>\n",
       "      <td>722.0</td>\n",
       "      <td>0.0</td>\n",
       "      <td>0.0</td>\n",
       "      <td>0.0</td>\n",
       "      <td>300.0</td>\n",
       "      <td>NaN</td>\n",
       "    </tr>\n",
       "    <tr>\n",
       "      <th>1</th>\n",
       "      <td>1</td>\n",
       "      <td>2</td>\n",
       "      <td>9E</td>\n",
       "      <td>20363</td>\n",
       "      <td>9E</td>\n",
       "      <td>N348PQ</td>\n",
       "      <td>3281</td>\n",
       "      <td>13487</td>\n",
       "      <td>1348702</td>\n",
       "      <td>MSP</td>\n",
       "      <td>...</td>\n",
       "      <td>CVG</td>\n",
       "      <td>1359.0</td>\n",
       "      <td>0.0</td>\n",
       "      <td>1400-1459</td>\n",
       "      <td>1633.0</td>\n",
       "      <td>0.0</td>\n",
       "      <td>0.0</td>\n",
       "      <td>0.0</td>\n",
       "      <td>596.0</td>\n",
       "      <td>NaN</td>\n",
       "    </tr>\n",
       "    <tr>\n",
       "      <th>2</th>\n",
       "      <td>1</td>\n",
       "      <td>2</td>\n",
       "      <td>9E</td>\n",
       "      <td>20363</td>\n",
       "      <td>9E</td>\n",
       "      <td>N8896A</td>\n",
       "      <td>3282</td>\n",
       "      <td>11433</td>\n",
       "      <td>1143302</td>\n",
       "      <td>DTW</td>\n",
       "      <td>...</td>\n",
       "      <td>CVG</td>\n",
       "      <td>1215.0</td>\n",
       "      <td>0.0</td>\n",
       "      <td>1200-1259</td>\n",
       "      <td>1329.0</td>\n",
       "      <td>0.0</td>\n",
       "      <td>0.0</td>\n",
       "      <td>0.0</td>\n",
       "      <td>229.0</td>\n",
       "      <td>NaN</td>\n",
       "    </tr>\n",
       "    <tr>\n",
       "      <th>3</th>\n",
       "      <td>1</td>\n",
       "      <td>2</td>\n",
       "      <td>9E</td>\n",
       "      <td>20363</td>\n",
       "      <td>9E</td>\n",
       "      <td>N8886A</td>\n",
       "      <td>3283</td>\n",
       "      <td>15249</td>\n",
       "      <td>1524906</td>\n",
       "      <td>TLH</td>\n",
       "      <td>...</td>\n",
       "      <td>ATL</td>\n",
       "      <td>1521.0</td>\n",
       "      <td>0.0</td>\n",
       "      <td>1500-1559</td>\n",
       "      <td>1625.0</td>\n",
       "      <td>0.0</td>\n",
       "      <td>0.0</td>\n",
       "      <td>0.0</td>\n",
       "      <td>223.0</td>\n",
       "      <td>NaN</td>\n",
       "    </tr>\n",
       "    <tr>\n",
       "      <th>4</th>\n",
       "      <td>1</td>\n",
       "      <td>2</td>\n",
       "      <td>9E</td>\n",
       "      <td>20363</td>\n",
       "      <td>9E</td>\n",
       "      <td>N8974C</td>\n",
       "      <td>3284</td>\n",
       "      <td>10397</td>\n",
       "      <td>1039707</td>\n",
       "      <td>ATL</td>\n",
       "      <td>...</td>\n",
       "      <td>FSM</td>\n",
       "      <td>1847.0</td>\n",
       "      <td>0.0</td>\n",
       "      <td>1900-1959</td>\n",
       "      <td>1940.0</td>\n",
       "      <td>0.0</td>\n",
       "      <td>0.0</td>\n",
       "      <td>0.0</td>\n",
       "      <td>579.0</td>\n",
       "      <td>NaN</td>\n",
       "    </tr>\n",
       "  </tbody>\n",
       "</table>\n",
       "<p>5 rows × 22 columns</p>\n",
       "</div>"
      ],
      "text/plain": [
       "   DAY_OF_MONTH  DAY_OF_WEEK OP_UNIQUE_CARRIER  OP_CARRIER_AIRLINE_ID  \\\n",
       "0             1            2                9E                  20363   \n",
       "1             1            2                9E                  20363   \n",
       "2             1            2                9E                  20363   \n",
       "3             1            2                9E                  20363   \n",
       "4             1            2                9E                  20363   \n",
       "\n",
       "  OP_CARRIER TAIL_NUM  OP_CARRIER_FL_NUM  ORIGIN_AIRPORT_ID  \\\n",
       "0         9E   N8688C               3280              11953   \n",
       "1         9E   N348PQ               3281              13487   \n",
       "2         9E   N8896A               3282              11433   \n",
       "3         9E   N8886A               3283              15249   \n",
       "4         9E   N8974C               3284              10397   \n",
       "\n",
       "   ORIGIN_AIRPORT_SEQ_ID ORIGIN  ...  DEST  DEP_TIME DEP_DEL15  DEP_TIME_BLK  \\\n",
       "0                1195302    GNV  ...   ATL     601.0       0.0     0600-0659   \n",
       "1                1348702    MSP  ...   CVG    1359.0       0.0     1400-1459   \n",
       "2                1143302    DTW  ...   CVG    1215.0       0.0     1200-1259   \n",
       "3                1524906    TLH  ...   ATL    1521.0       0.0     1500-1559   \n",
       "4                1039707    ATL  ...   FSM    1847.0       0.0     1900-1959   \n",
       "\n",
       "   ARR_TIME ARR_DEL15  CANCELLED  DIVERTED  DISTANCE  Unnamed: 21  \n",
       "0     722.0       0.0        0.0       0.0     300.0          NaN  \n",
       "1    1633.0       0.0        0.0       0.0     596.0          NaN  \n",
       "2    1329.0       0.0        0.0       0.0     229.0          NaN  \n",
       "3    1625.0       0.0        0.0       0.0     223.0          NaN  \n",
       "4    1940.0       0.0        0.0       0.0     579.0          NaN  \n",
       "\n",
       "[5 rows x 22 columns]"
      ]
     },
     "execution_count": 4,
     "metadata": {},
     "output_type": "execute_result"
    }
   ],
   "source": [
    "df_2019.head()"
   ]
  },
  {
   "cell_type": "code",
   "execution_count": 5,
   "metadata": {},
   "outputs": [
    {
     "data": {
      "text/plain": [
       "True"
      ]
     },
     "execution_count": 5,
     "metadata": {},
     "output_type": "execute_result"
    }
   ],
   "source": [
    "#Check if columns are same\n",
    "same_columns_check = all(df_2019.columns == df_2020.columns)\n",
    "same_columns_check"
   ]
  },
  {
   "cell_type": "code",
   "execution_count": 6,
   "metadata": {},
   "outputs": [],
   "source": [
    "df_2019[\"year\"] = \"2019\"\n",
    "df_2020[\"year\"] = \"2020\""
   ]
  },
  {
   "cell_type": "code",
   "execution_count": 7,
   "metadata": {},
   "outputs": [
    {
     "data": {
      "text/plain": [
       "(1191331, 23)"
      ]
     },
     "execution_count": 7,
     "metadata": {},
     "output_type": "execute_result"
    }
   ],
   "source": [
    "#The dataset contains more than 1 million pieces of flight information.\n",
    "df = pd.concat([df_2019, df_2020], ignore_index = True)\n",
    "df.shape"
   ]
  },
  {
   "cell_type": "code",
   "execution_count": 8,
   "metadata": {
    "scrolled": true
   },
   "outputs": [
    {
     "data": {
      "text/html": [
       "<div>\n",
       "<style scoped>\n",
       "    .dataframe tbody tr th:only-of-type {\n",
       "        vertical-align: middle;\n",
       "    }\n",
       "\n",
       "    .dataframe tbody tr th {\n",
       "        vertical-align: top;\n",
       "    }\n",
       "\n",
       "    .dataframe thead th {\n",
       "        text-align: right;\n",
       "    }\n",
       "</style>\n",
       "<table border=\"1\" class=\"dataframe\">\n",
       "  <thead>\n",
       "    <tr style=\"text-align: right;\">\n",
       "      <th></th>\n",
       "      <th>DAY_OF_MONTH</th>\n",
       "      <th>DAY_OF_WEEK</th>\n",
       "      <th>OP_UNIQUE_CARRIER</th>\n",
       "      <th>OP_CARRIER_AIRLINE_ID</th>\n",
       "      <th>OP_CARRIER</th>\n",
       "      <th>TAIL_NUM</th>\n",
       "      <th>OP_CARRIER_FL_NUM</th>\n",
       "      <th>ORIGIN_AIRPORT_ID</th>\n",
       "      <th>ORIGIN_AIRPORT_SEQ_ID</th>\n",
       "      <th>ORIGIN</th>\n",
       "      <th>...</th>\n",
       "      <th>DEP_TIME</th>\n",
       "      <th>DEP_DEL15</th>\n",
       "      <th>DEP_TIME_BLK</th>\n",
       "      <th>ARR_TIME</th>\n",
       "      <th>ARR_DEL15</th>\n",
       "      <th>CANCELLED</th>\n",
       "      <th>DIVERTED</th>\n",
       "      <th>DISTANCE</th>\n",
       "      <th>Unnamed: 21</th>\n",
       "      <th>year</th>\n",
       "    </tr>\n",
       "  </thead>\n",
       "  <tbody>\n",
       "    <tr>\n",
       "      <th>0</th>\n",
       "      <td>1</td>\n",
       "      <td>2</td>\n",
       "      <td>9E</td>\n",
       "      <td>20363</td>\n",
       "      <td>9E</td>\n",
       "      <td>N8688C</td>\n",
       "      <td>3280</td>\n",
       "      <td>11953</td>\n",
       "      <td>1195302</td>\n",
       "      <td>GNV</td>\n",
       "      <td>...</td>\n",
       "      <td>601.0</td>\n",
       "      <td>0.0</td>\n",
       "      <td>0600-0659</td>\n",
       "      <td>722.0</td>\n",
       "      <td>0.0</td>\n",
       "      <td>0.0</td>\n",
       "      <td>0.0</td>\n",
       "      <td>300.0</td>\n",
       "      <td>NaN</td>\n",
       "      <td>2019</td>\n",
       "    </tr>\n",
       "    <tr>\n",
       "      <th>1</th>\n",
       "      <td>1</td>\n",
       "      <td>2</td>\n",
       "      <td>9E</td>\n",
       "      <td>20363</td>\n",
       "      <td>9E</td>\n",
       "      <td>N348PQ</td>\n",
       "      <td>3281</td>\n",
       "      <td>13487</td>\n",
       "      <td>1348702</td>\n",
       "      <td>MSP</td>\n",
       "      <td>...</td>\n",
       "      <td>1359.0</td>\n",
       "      <td>0.0</td>\n",
       "      <td>1400-1459</td>\n",
       "      <td>1633.0</td>\n",
       "      <td>0.0</td>\n",
       "      <td>0.0</td>\n",
       "      <td>0.0</td>\n",
       "      <td>596.0</td>\n",
       "      <td>NaN</td>\n",
       "      <td>2019</td>\n",
       "    </tr>\n",
       "    <tr>\n",
       "      <th>2</th>\n",
       "      <td>1</td>\n",
       "      <td>2</td>\n",
       "      <td>9E</td>\n",
       "      <td>20363</td>\n",
       "      <td>9E</td>\n",
       "      <td>N8896A</td>\n",
       "      <td>3282</td>\n",
       "      <td>11433</td>\n",
       "      <td>1143302</td>\n",
       "      <td>DTW</td>\n",
       "      <td>...</td>\n",
       "      <td>1215.0</td>\n",
       "      <td>0.0</td>\n",
       "      <td>1200-1259</td>\n",
       "      <td>1329.0</td>\n",
       "      <td>0.0</td>\n",
       "      <td>0.0</td>\n",
       "      <td>0.0</td>\n",
       "      <td>229.0</td>\n",
       "      <td>NaN</td>\n",
       "      <td>2019</td>\n",
       "    </tr>\n",
       "    <tr>\n",
       "      <th>3</th>\n",
       "      <td>1</td>\n",
       "      <td>2</td>\n",
       "      <td>9E</td>\n",
       "      <td>20363</td>\n",
       "      <td>9E</td>\n",
       "      <td>N8886A</td>\n",
       "      <td>3283</td>\n",
       "      <td>15249</td>\n",
       "      <td>1524906</td>\n",
       "      <td>TLH</td>\n",
       "      <td>...</td>\n",
       "      <td>1521.0</td>\n",
       "      <td>0.0</td>\n",
       "      <td>1500-1559</td>\n",
       "      <td>1625.0</td>\n",
       "      <td>0.0</td>\n",
       "      <td>0.0</td>\n",
       "      <td>0.0</td>\n",
       "      <td>223.0</td>\n",
       "      <td>NaN</td>\n",
       "      <td>2019</td>\n",
       "    </tr>\n",
       "    <tr>\n",
       "      <th>4</th>\n",
       "      <td>1</td>\n",
       "      <td>2</td>\n",
       "      <td>9E</td>\n",
       "      <td>20363</td>\n",
       "      <td>9E</td>\n",
       "      <td>N8974C</td>\n",
       "      <td>3284</td>\n",
       "      <td>10397</td>\n",
       "      <td>1039707</td>\n",
       "      <td>ATL</td>\n",
       "      <td>...</td>\n",
       "      <td>1847.0</td>\n",
       "      <td>0.0</td>\n",
       "      <td>1900-1959</td>\n",
       "      <td>1940.0</td>\n",
       "      <td>0.0</td>\n",
       "      <td>0.0</td>\n",
       "      <td>0.0</td>\n",
       "      <td>579.0</td>\n",
       "      <td>NaN</td>\n",
       "      <td>2019</td>\n",
       "    </tr>\n",
       "  </tbody>\n",
       "</table>\n",
       "<p>5 rows × 23 columns</p>\n",
       "</div>"
      ],
      "text/plain": [
       "   DAY_OF_MONTH  DAY_OF_WEEK OP_UNIQUE_CARRIER  OP_CARRIER_AIRLINE_ID  \\\n",
       "0             1            2                9E                  20363   \n",
       "1             1            2                9E                  20363   \n",
       "2             1            2                9E                  20363   \n",
       "3             1            2                9E                  20363   \n",
       "4             1            2                9E                  20363   \n",
       "\n",
       "  OP_CARRIER TAIL_NUM  OP_CARRIER_FL_NUM  ORIGIN_AIRPORT_ID  \\\n",
       "0         9E   N8688C               3280              11953   \n",
       "1         9E   N348PQ               3281              13487   \n",
       "2         9E   N8896A               3282              11433   \n",
       "3         9E   N8886A               3283              15249   \n",
       "4         9E   N8974C               3284              10397   \n",
       "\n",
       "   ORIGIN_AIRPORT_SEQ_ID ORIGIN  ...  DEP_TIME  DEP_DEL15 DEP_TIME_BLK  \\\n",
       "0                1195302    GNV  ...     601.0        0.0    0600-0659   \n",
       "1                1348702    MSP  ...    1359.0        0.0    1400-1459   \n",
       "2                1143302    DTW  ...    1215.0        0.0    1200-1259   \n",
       "3                1524906    TLH  ...    1521.0        0.0    1500-1559   \n",
       "4                1039707    ATL  ...    1847.0        0.0    1900-1959   \n",
       "\n",
       "   ARR_TIME  ARR_DEL15 CANCELLED  DIVERTED  DISTANCE  Unnamed: 21  year  \n",
       "0     722.0        0.0       0.0       0.0     300.0          NaN  2019  \n",
       "1    1633.0        0.0       0.0       0.0     596.0          NaN  2019  \n",
       "2    1329.0        0.0       0.0       0.0     229.0          NaN  2019  \n",
       "3    1625.0        0.0       0.0       0.0     223.0          NaN  2019  \n",
       "4    1940.0        0.0       0.0       0.0     579.0          NaN  2019  \n",
       "\n",
       "[5 rows x 23 columns]"
      ]
     },
     "execution_count": 8,
     "metadata": {},
     "output_type": "execute_result"
    }
   ],
   "source": [
    "df.head()"
   ]
  },
  {
   "cell_type": "code",
   "execution_count": 9,
   "metadata": {},
   "outputs": [],
   "source": [
    "#drop \"Unnamed: 21\" column since it is an empty column\n",
    "df.drop('Unnamed: 21', inplace= True, axis= 1)"
   ]
  },
  {
   "cell_type": "code",
   "execution_count": 10,
   "metadata": {},
   "outputs": [
    {
     "data": {
      "text/html": [
       "<div>\n",
       "<style scoped>\n",
       "    .dataframe tbody tr th:only-of-type {\n",
       "        vertical-align: middle;\n",
       "    }\n",
       "\n",
       "    .dataframe tbody tr th {\n",
       "        vertical-align: top;\n",
       "    }\n",
       "\n",
       "    .dataframe thead th {\n",
       "        text-align: right;\n",
       "    }\n",
       "</style>\n",
       "<table border=\"1\" class=\"dataframe\">\n",
       "  <thead>\n",
       "    <tr style=\"text-align: right;\">\n",
       "      <th></th>\n",
       "      <th>DAY_OF_MONTH</th>\n",
       "      <th>DAY_OF_WEEK</th>\n",
       "      <th>OP_CARRIER</th>\n",
       "      <th>OP_CARRIER_FL_NUM</th>\n",
       "      <th>ORIGIN</th>\n",
       "      <th>DEST</th>\n",
       "      <th>DEP_TIME</th>\n",
       "      <th>DEP_DEL15</th>\n",
       "      <th>DEP_TIME_BLK</th>\n",
       "      <th>ARR_TIME</th>\n",
       "      <th>ARR_DEL15</th>\n",
       "      <th>CANCELLED</th>\n",
       "      <th>DIVERTED</th>\n",
       "      <th>DISTANCE</th>\n",
       "      <th>year</th>\n",
       "    </tr>\n",
       "  </thead>\n",
       "  <tbody>\n",
       "    <tr>\n",
       "      <th>0</th>\n",
       "      <td>1</td>\n",
       "      <td>2</td>\n",
       "      <td>9E</td>\n",
       "      <td>3280</td>\n",
       "      <td>GNV</td>\n",
       "      <td>ATL</td>\n",
       "      <td>601.0</td>\n",
       "      <td>0.0</td>\n",
       "      <td>0600-0659</td>\n",
       "      <td>722.0</td>\n",
       "      <td>0.0</td>\n",
       "      <td>0.0</td>\n",
       "      <td>0.0</td>\n",
       "      <td>300.0</td>\n",
       "      <td>2019</td>\n",
       "    </tr>\n",
       "    <tr>\n",
       "      <th>1</th>\n",
       "      <td>1</td>\n",
       "      <td>2</td>\n",
       "      <td>9E</td>\n",
       "      <td>3281</td>\n",
       "      <td>MSP</td>\n",
       "      <td>CVG</td>\n",
       "      <td>1359.0</td>\n",
       "      <td>0.0</td>\n",
       "      <td>1400-1459</td>\n",
       "      <td>1633.0</td>\n",
       "      <td>0.0</td>\n",
       "      <td>0.0</td>\n",
       "      <td>0.0</td>\n",
       "      <td>596.0</td>\n",
       "      <td>2019</td>\n",
       "    </tr>\n",
       "    <tr>\n",
       "      <th>2</th>\n",
       "      <td>1</td>\n",
       "      <td>2</td>\n",
       "      <td>9E</td>\n",
       "      <td>3282</td>\n",
       "      <td>DTW</td>\n",
       "      <td>CVG</td>\n",
       "      <td>1215.0</td>\n",
       "      <td>0.0</td>\n",
       "      <td>1200-1259</td>\n",
       "      <td>1329.0</td>\n",
       "      <td>0.0</td>\n",
       "      <td>0.0</td>\n",
       "      <td>0.0</td>\n",
       "      <td>229.0</td>\n",
       "      <td>2019</td>\n",
       "    </tr>\n",
       "    <tr>\n",
       "      <th>3</th>\n",
       "      <td>1</td>\n",
       "      <td>2</td>\n",
       "      <td>9E</td>\n",
       "      <td>3283</td>\n",
       "      <td>TLH</td>\n",
       "      <td>ATL</td>\n",
       "      <td>1521.0</td>\n",
       "      <td>0.0</td>\n",
       "      <td>1500-1559</td>\n",
       "      <td>1625.0</td>\n",
       "      <td>0.0</td>\n",
       "      <td>0.0</td>\n",
       "      <td>0.0</td>\n",
       "      <td>223.0</td>\n",
       "      <td>2019</td>\n",
       "    </tr>\n",
       "    <tr>\n",
       "      <th>4</th>\n",
       "      <td>1</td>\n",
       "      <td>2</td>\n",
       "      <td>9E</td>\n",
       "      <td>3284</td>\n",
       "      <td>ATL</td>\n",
       "      <td>FSM</td>\n",
       "      <td>1847.0</td>\n",
       "      <td>0.0</td>\n",
       "      <td>1900-1959</td>\n",
       "      <td>1940.0</td>\n",
       "      <td>0.0</td>\n",
       "      <td>0.0</td>\n",
       "      <td>0.0</td>\n",
       "      <td>579.0</td>\n",
       "      <td>2019</td>\n",
       "    </tr>\n",
       "  </tbody>\n",
       "</table>\n",
       "</div>"
      ],
      "text/plain": [
       "   DAY_OF_MONTH  DAY_OF_WEEK OP_CARRIER  OP_CARRIER_FL_NUM ORIGIN DEST  \\\n",
       "0             1            2         9E               3280    GNV  ATL   \n",
       "1             1            2         9E               3281    MSP  CVG   \n",
       "2             1            2         9E               3282    DTW  CVG   \n",
       "3             1            2         9E               3283    TLH  ATL   \n",
       "4             1            2         9E               3284    ATL  FSM   \n",
       "\n",
       "   DEP_TIME  DEP_DEL15 DEP_TIME_BLK  ARR_TIME  ARR_DEL15  CANCELLED  DIVERTED  \\\n",
       "0     601.0        0.0    0600-0659     722.0        0.0        0.0       0.0   \n",
       "1    1359.0        0.0    1400-1459    1633.0        0.0        0.0       0.0   \n",
       "2    1215.0        0.0    1200-1259    1329.0        0.0        0.0       0.0   \n",
       "3    1521.0        0.0    1500-1559    1625.0        0.0        0.0       0.0   \n",
       "4    1847.0        0.0    1900-1959    1940.0        0.0        0.0       0.0   \n",
       "\n",
       "   DISTANCE  year  \n",
       "0     300.0  2019  \n",
       "1     596.0  2019  \n",
       "2     229.0  2019  \n",
       "3     223.0  2019  \n",
       "4     579.0  2019  "
      ]
     },
     "execution_count": 10,
     "metadata": {},
     "output_type": "execute_result"
    }
   ],
   "source": [
    "#drop columns that are highly correlated with others.\n",
    "df.drop(['OP_UNIQUE_CARRIER','OP_CARRIER_AIRLINE_ID','TAIL_NUM', 'ORIGIN_AIRPORT_ID','ORIGIN_AIRPORT_SEQ_ID','DEST_AIRPORT_ID','DEST_AIRPORT_SEQ_ID'], axis=1, inplace= True)\n",
    "df.head()"
   ]
  },
  {
   "cell_type": "code",
   "execution_count": 11,
   "metadata": {},
   "outputs": [
    {
     "data": {
      "text/plain": [
       "DAY_OF_MONTH             0\n",
       "DAY_OF_WEEK              0\n",
       "OP_CARRIER               0\n",
       "OP_CARRIER_FL_NUM        0\n",
       "ORIGIN                   0\n",
       "DEST                     0\n",
       "DEP_TIME             23016\n",
       "DEP_DEL15            23054\n",
       "DEP_TIME_BLK             0\n",
       "ARR_TIME             24136\n",
       "ARR_DEL15            26100\n",
       "CANCELLED                0\n",
       "DIVERTED                 0\n",
       "DISTANCE                 0\n",
       "year                     0\n",
       "dtype: int64"
      ]
     },
     "execution_count": 11,
     "metadata": {},
     "output_type": "execute_result"
    }
   ],
   "source": [
    "#check null values\n",
    "df.isnull().sum()"
   ]
  },
  {
   "cell_type": "code",
   "execution_count": 12,
   "metadata": {},
   "outputs": [],
   "source": [
    "#drop null values\n",
    "df.dropna(inplace= True)"
   ]
  },
  {
   "cell_type": "code",
   "execution_count": 13,
   "metadata": {},
   "outputs": [
    {
     "data": {
      "text/plain": [
       "DAY_OF_MONTH           int64\n",
       "DAY_OF_WEEK            int64\n",
       "OP_CARRIER            object\n",
       "OP_CARRIER_FL_NUM      int64\n",
       "ORIGIN                object\n",
       "DEST                  object\n",
       "DEP_TIME             float64\n",
       "DEP_DEL15            float64\n",
       "DEP_TIME_BLK          object\n",
       "ARR_TIME             float64\n",
       "ARR_DEL15            float64\n",
       "CANCELLED            float64\n",
       "DIVERTED             float64\n",
       "DISTANCE             float64\n",
       "year                  object\n",
       "dtype: object"
      ]
     },
     "execution_count": 13,
     "metadata": {},
     "output_type": "execute_result"
    }
   ],
   "source": [
    "df.dtypes"
   ]
  },
  {
   "cell_type": "code",
   "execution_count": 14,
   "metadata": {},
   "outputs": [
    {
     "data": {
      "text/plain": [
       "DAY_OF_MONTH           31\n",
       "DAY_OF_WEEK             7\n",
       "OP_CARRIER             17\n",
       "OP_CARRIER_FL_NUM    6997\n",
       "ORIGIN                353\n",
       "DEST                  353\n",
       "DEP_TIME             1440\n",
       "DEP_DEL15               2\n",
       "DEP_TIME_BLK           19\n",
       "ARR_TIME             1440\n",
       "ARR_DEL15               2\n",
       "CANCELLED               1\n",
       "DIVERTED                1\n",
       "DISTANCE             1511\n",
       "year                    2\n",
       "dtype: int64"
      ]
     },
     "execution_count": 14,
     "metadata": {},
     "output_type": "execute_result"
    }
   ],
   "source": [
    "df.nunique()"
   ]
  },
  {
   "cell_type": "markdown",
   "metadata": {},
   "source": [
    "***\n",
    "## Exploratory Data Analysis"
   ]
  },
  {
   "cell_type": "code",
   "execution_count": 15,
   "metadata": {},
   "outputs": [
    {
     "name": "stdout",
     "output_type": "stream",
     "text": [
      "Based on historical data, if a flight was departure delay, there was 77.74% chance that the flight delayed upon arrival.\n"
     ]
    }
   ],
   "source": [
    "dep_del = df[df[\"DEP_DEL15\"] == 1]\n",
    "dep_del_arr_del = round(((dep_del[\"ARR_DEL15\"] == 1).sum()/dep_del.shape[0])*100, 2)\n",
    "print(\"Based on historical data, if a flight was departure delay, there was {}% chance that the flight delayed upon arrival.\".format(dep_del_arr_del))"
   ]
  },
  {
   "cell_type": "code",
   "execution_count": 16,
   "metadata": {},
   "outputs": [],
   "source": [
    "arr_del = df[df[\"ARR_DEL15\"] == 1]"
   ]
  },
  {
   "cell_type": "code",
   "execution_count": 17,
   "metadata": {
    "scrolled": true
   },
   "outputs": [
    {
     "data": {
      "text/plain": [
       "ORD    10639\n",
       "DFW     8559\n",
       "ATL     7737\n",
       "DEN     6154\n",
       "CLT     5717\n",
       "LGA     5595\n",
       "LAX     5394\n",
       "SFO     5280\n",
       "EWR     4533\n",
       "MCO     4066\n",
       "Name: ORIGIN, dtype: int64"
      ]
     },
     "execution_count": 17,
     "metadata": {},
     "output_type": "execute_result"
    }
   ],
   "source": [
    "dep_del_origin = dep_del[\"ORIGIN\"].value_counts()[:10]\n",
    "dep_del_origin"
   ]
  },
  {
   "cell_type": "code",
   "execution_count": 18,
   "metadata": {},
   "outputs": [
    {
     "data": {
      "text/plain": [
       "ORD    10170\n",
       "DFW     8667\n",
       "ATL     7263\n",
       "LGA     7077\n",
       "SFO     6114\n",
       "EWR     5711\n",
       "CLT     5676\n",
       "LAX     5452\n",
       "DEN     5267\n",
       "BOS     4123\n",
       "Name: DEST, dtype: int64"
      ]
     },
     "execution_count": 18,
     "metadata": {},
     "output_type": "execute_result"
    }
   ],
   "source": [
    "arr_del_dest = arr_del[\"DEST\"].value_counts()[:10]\n",
    "arr_del_dest"
   ]
  },
  {
   "cell_type": "code",
   "execution_count": 19,
   "metadata": {},
   "outputs": [
    {
     "data": {
      "image/png": "[encoded data removed]",
      "text/plain": [
       "<Figure size 864x432 with 2 Axes>"
      ]
     },
     "metadata": {
      "needs_background": "light"
     },
     "output_type": "display_data"
    }
   ],
   "source": [
    "fig, axs = plt.subplots(2,1, figsize= (12,6))\n",
    "\n",
    "dest = sns.barplot(y= dep_del_origin.index, x= dep_del_origin, orient= \"h\", ax= axs[0])\n",
    "dest.set(xlim = (0,12000))\n",
    "dest.xaxis.set_major_formatter(ticker.EngFormatter())\n",
    "dest.set_title(\"Departure Delay: Top 10 Origin Airports (total # of delays)\")\n",
    "dest.set_xlabel(\"\")\n",
    "dest.set_ylabel(\"Top 10 Airports\")\n",
    "\n",
    "origin = sns.barplot(y= arr_del_dest.index, x= arr_del_dest, orient= \"h\", ax= axs[1])\n",
    "origin.set(xlim = (0,12000))\n",
    "origin.xaxis.set_major_formatter(ticker.EngFormatter())\n",
    "origin.set_title(\"Arrival Delay: Top 10 Destination Airports (total # of delays)\")\n",
    "origin.set_xlabel(\"\")\n",
    "origin.set_ylabel(\"Top 10 Airports\")\n",
    "\n",
    "plt.tight_layout()"
   ]
  },
  {
   "cell_type": "code",
   "execution_count": 20,
   "metadata": {},
   "outputs": [
    {
     "data": {
      "text/html": [
       "<div>\n",
       "<style scoped>\n",
       "    .dataframe tbody tr th:only-of-type {\n",
       "        vertical-align: middle;\n",
       "    }\n",
       "\n",
       "    .dataframe tbody tr th {\n",
       "        vertical-align: top;\n",
       "    }\n",
       "\n",
       "    .dataframe thead th {\n",
       "        text-align: right;\n",
       "    }\n",
       "</style>\n",
       "<table border=\"1\" class=\"dataframe\">\n",
       "  <thead>\n",
       "    <tr style=\"text-align: right;\">\n",
       "      <th></th>\n",
       "      <th>DAY_OF_MONTH</th>\n",
       "      <th>DAY_OF_WEEK</th>\n",
       "      <th>OP_UNIQUE_CARRIER</th>\n",
       "      <th>OP_CARRIER_AIRLINE_ID</th>\n",
       "      <th>OP_CARRIER</th>\n",
       "      <th>TAIL_NUM</th>\n",
       "      <th>OP_CARRIER_FL_NUM</th>\n",
       "      <th>ORIGIN_AIRPORT_ID</th>\n",
       "      <th>ORIGIN_AIRPORT_SEQ_ID</th>\n",
       "      <th>ORIGIN</th>\n",
       "      <th>...</th>\n",
       "      <th>DEP_TIME</th>\n",
       "      <th>DEP_DEL15</th>\n",
       "      <th>DEP_TIME_BLK</th>\n",
       "      <th>ARR_TIME</th>\n",
       "      <th>ARR_DEL15</th>\n",
       "      <th>CANCELLED</th>\n",
       "      <th>DIVERTED</th>\n",
       "      <th>DISTANCE</th>\n",
       "      <th>Unnamed: 21</th>\n",
       "      <th>year</th>\n",
       "    </tr>\n",
       "  </thead>\n",
       "  <tbody>\n",
       "    <tr>\n",
       "      <th>0</th>\n",
       "      <td>1</td>\n",
       "      <td>2</td>\n",
       "      <td>9E</td>\n",
       "      <td>20363</td>\n",
       "      <td>9E</td>\n",
       "      <td>N8688C</td>\n",
       "      <td>3280</td>\n",
       "      <td>11953</td>\n",
       "      <td>1195302</td>\n",
       "      <td>GNV</td>\n",
       "      <td>...</td>\n",
       "      <td>601.0</td>\n",
       "      <td>0.0</td>\n",
       "      <td>0600-0659</td>\n",
       "      <td>722.0</td>\n",
       "      <td>0.0</td>\n",
       "      <td>0.0</td>\n",
       "      <td>0.0</td>\n",
       "      <td>300.0</td>\n",
       "      <td>NaN</td>\n",
       "      <td>2019</td>\n",
       "    </tr>\n",
       "    <tr>\n",
       "      <th>1</th>\n",
       "      <td>1</td>\n",
       "      <td>2</td>\n",
       "      <td>9E</td>\n",
       "      <td>20363</td>\n",
       "      <td>9E</td>\n",
       "      <td>N348PQ</td>\n",
       "      <td>3281</td>\n",
       "      <td>13487</td>\n",
       "      <td>1348702</td>\n",
       "      <td>MSP</td>\n",
       "      <td>...</td>\n",
       "      <td>1359.0</td>\n",
       "      <td>0.0</td>\n",
       "      <td>1400-1459</td>\n",
       "      <td>1633.0</td>\n",
       "      <td>0.0</td>\n",
       "      <td>0.0</td>\n",
       "      <td>0.0</td>\n",
       "      <td>596.0</td>\n",
       "      <td>NaN</td>\n",
       "      <td>2019</td>\n",
       "    </tr>\n",
       "    <tr>\n",
       "      <th>2</th>\n",
       "      <td>1</td>\n",
       "      <td>2</td>\n",
       "      <td>9E</td>\n",
       "      <td>20363</td>\n",
       "      <td>9E</td>\n",
       "      <td>N8896A</td>\n",
       "      <td>3282</td>\n",
       "      <td>11433</td>\n",
       "      <td>1143302</td>\n",
       "      <td>DTW</td>\n",
       "      <td>...</td>\n",
       "      <td>1215.0</td>\n",
       "      <td>0.0</td>\n",
       "      <td>1200-1259</td>\n",
       "      <td>1329.0</td>\n",
       "      <td>0.0</td>\n",
       "      <td>0.0</td>\n",
       "      <td>0.0</td>\n",
       "      <td>229.0</td>\n",
       "      <td>NaN</td>\n",
       "      <td>2019</td>\n",
       "    </tr>\n",
       "    <tr>\n",
       "      <th>3</th>\n",
       "      <td>1</td>\n",
       "      <td>2</td>\n",
       "      <td>9E</td>\n",
       "      <td>20363</td>\n",
       "      <td>9E</td>\n",
       "      <td>N8886A</td>\n",
       "      <td>3283</td>\n",
       "      <td>15249</td>\n",
       "      <td>1524906</td>\n",
       "      <td>TLH</td>\n",
       "      <td>...</td>\n",
       "      <td>1521.0</td>\n",
       "      <td>0.0</td>\n",
       "      <td>1500-1559</td>\n",
       "      <td>1625.0</td>\n",
       "      <td>0.0</td>\n",
       "      <td>0.0</td>\n",
       "      <td>0.0</td>\n",
       "      <td>223.0</td>\n",
       "      <td>NaN</td>\n",
       "      <td>2019</td>\n",
       "    </tr>\n",
       "    <tr>\n",
       "      <th>4</th>\n",
       "      <td>1</td>\n",
       "      <td>2</td>\n",
       "      <td>9E</td>\n",
       "      <td>20363</td>\n",
       "      <td>9E</td>\n",
       "      <td>N8974C</td>\n",
       "      <td>3284</td>\n",
       "      <td>10397</td>\n",
       "      <td>1039707</td>\n",
       "      <td>ATL</td>\n",
       "      <td>...</td>\n",
       "      <td>1847.0</td>\n",
       "      <td>0.0</td>\n",
       "      <td>1900-1959</td>\n",
       "      <td>1940.0</td>\n",
       "      <td>0.0</td>\n",
       "      <td>0.0</td>\n",
       "      <td>0.0</td>\n",
       "      <td>579.0</td>\n",
       "      <td>NaN</td>\n",
       "      <td>2019</td>\n",
       "    </tr>\n",
       "  </tbody>\n",
       "</table>\n",
       "<p>5 rows × 23 columns</p>\n",
       "</div>"
      ],
      "text/plain": [
       "   DAY_OF_MONTH  DAY_OF_WEEK OP_UNIQUE_CARRIER  OP_CARRIER_AIRLINE_ID  \\\n",
       "0             1            2                9E                  20363   \n",
       "1             1            2                9E                  20363   \n",
       "2             1            2                9E                  20363   \n",
       "3             1            2                9E                  20363   \n",
       "4             1            2                9E                  20363   \n",
       "\n",
       "  OP_CARRIER TAIL_NUM  OP_CARRIER_FL_NUM  ORIGIN_AIRPORT_ID  \\\n",
       "0         9E   N8688C               3280              11953   \n",
       "1         9E   N348PQ               3281              13487   \n",
       "2         9E   N8896A               3282              11433   \n",
       "3         9E   N8886A               3283              15249   \n",
       "4         9E   N8974C               3284              10397   \n",
       "\n",
       "   ORIGIN_AIRPORT_SEQ_ID ORIGIN  ...  DEP_TIME  DEP_DEL15 DEP_TIME_BLK  \\\n",
       "0                1195302    GNV  ...     601.0        0.0    0600-0659   \n",
       "1                1348702    MSP  ...    1359.0        0.0    1400-1459   \n",
       "2                1143302    DTW  ...    1215.0        0.0    1200-1259   \n",
       "3                1524906    TLH  ...    1521.0        0.0    1500-1559   \n",
       "4                1039707    ATL  ...    1847.0        0.0    1900-1959   \n",
       "\n",
       "   ARR_TIME  ARR_DEL15 CANCELLED  DIVERTED  DISTANCE  Unnamed: 21  year  \n",
       "0     722.0        0.0       0.0       0.0     300.0          NaN  2019  \n",
       "1    1633.0        0.0       0.0       0.0     596.0          NaN  2019  \n",
       "2    1329.0        0.0       0.0       0.0     229.0          NaN  2019  \n",
       "3    1625.0        0.0       0.0       0.0     223.0          NaN  2019  \n",
       "4    1940.0        0.0       0.0       0.0     579.0          NaN  2019  \n",
       "\n",
       "[5 rows x 23 columns]"
      ]
     },
     "execution_count": 20,
     "metadata": {},
     "output_type": "execute_result"
    }
   ],
   "source": [
    "df_2019.head()"
   ]
  },
  {
   "cell_type": "code",
   "execution_count": 21,
   "metadata": {
    "scrolled": true
   },
   "outputs": [],
   "source": [
    "domcount_2019 = arr_del[arr_del[\"year\"] == \"2019\"][\"DAY_OF_MONTH\"].value_counts()\n",
    "domcount_2020 = arr_del[arr_del[\"year\"] == \"2020\"][\"DAY_OF_MONTH\"].value_counts()"
   ]
  },
  {
   "cell_type": "code",
   "execution_count": 22,
   "metadata": {
    "scrolled": true
   },
   "outputs": [
    {
     "data": {
      "image/png": "[encoded data removed]",
      "text/plain": [
       "<Figure size 1800x1656 with 2 Axes>"
      ]
     },
     "metadata": {
      "needs_background": "light"
     },
     "output_type": "display_data"
    }
   ],
   "source": [
    "fig, axs = plt.subplots(2,1, figsize= (25,23))\n",
    "\n",
    "domgraph2019 = sns.barplot(x= domcount_2019.index, y= domcount_2019, ax= axs[0])\n",
    "domgraph2019.set_title(\"2019 Day of Month (total # of arrival delays)\", fontsize=25)\n",
    "domgraph2019.set_ylabel(\"Count of delays\", fontsize=20)\n",
    "domgraph2019.set_xticklabels(domgraph2019.get_xticks(), size= 15)\n",
    "domgraph2019.set_yticklabels(domgraph2019.get_yticks(), size= 15)\n",
    "domgraph2019.yaxis.set_major_formatter(ticker.EngFormatter())\n",
    "\n",
    "domgraph2020 = sns.barplot(x= domcount_2020.index, y= domcount_2020, ax= axs[1])\n",
    "domgraph2020.set_title(\"2020 Day of Month (total # of arrival delays)\", fontsize=25)\n",
    "domgraph2020.set_ylabel(\"Count of delays\", fontsize=20)\n",
    "domgraph2020.set_xticklabels(domgraph2020.get_xticks(), size= 15)\n",
    "domgraph2020.set_yticklabels(domgraph2020.get_yticks(), size= 15)\n",
    "domgraph2020.yaxis.set_major_formatter(ticker.EngFormatter())"
   ]
  },
  {
   "cell_type": "code",
   "execution_count": 23,
   "metadata": {},
   "outputs": [],
   "source": [
    "dowcount_2019 = arr_del[arr_del[\"year\"] == \"2019\"][\"DAY_OF_WEEK\"].value_counts()\n",
    "dowcount_2020 = arr_del[arr_del[\"year\"] == \"2020\"][\"DAY_OF_WEEK\"].value_counts()"
   ]
  },
  {
   "cell_type": "code",
   "execution_count": 24,
   "metadata": {},
   "outputs": [
    {
     "data": {
      "image/png": "[encoded data removed]",
      "text/plain": [
       "<Figure size 1800x1656 with 2 Axes>"
      ]
     },
     "metadata": {
      "needs_background": "light"
     },
     "output_type": "display_data"
    }
   ],
   "source": [
    "fig, axs = plt.subplots(2,1, figsize= (25,23))\n",
    "\n",
    "dowgraph2019 = sns.barplot(x= dowcount_2019.index, y= dowcount_2019, ax= axs[0])\n",
    "dowgraph2019.set_title(\"2019 Day of Week (total # of arrival delays)\", fontsize=25)\n",
    "dowgraph2019.set_ylabel(\"Count of delays\", fontsize=20)\n",
    "dowgraph2019.set_xticklabels(dowgraph2019.get_xticks(), size= 15)\n",
    "dowgraph2019.set_yticklabels(dowgraph2019.get_yticks(), size= 15)\n",
    "dowgraph2019.yaxis.set_major_formatter(ticker.EngFormatter())\n",
    "\n",
    "dowgraph2020 = sns.barplot(x= dowcount_2020.index, y= dowcount_2020, ax= axs[1])\n",
    "dowgraph2020.set_title(\"2020 Day of Week (total # of arrival delays)\", fontsize=25)\n",
    "dowgraph2020.set_ylabel(\"Count of delays\", fontsize=20)\n",
    "dowgraph2020.set_xticklabels(dowgraph2020.get_xticks(), size= 15)\n",
    "dowgraph2020.set_yticklabels(dowgraph2020.get_yticks(), size= 15)\n",
    "dowgraph2020.yaxis.set_major_formatter(ticker.EngFormatter())"
   ]
  },
  {
   "cell_type": "code",
   "execution_count": 25,
   "metadata": {
    "scrolled": true
   },
   "outputs": [],
   "source": [
    "flight_count = df[\"year\"].value_counts()"
   ]
  },
  {
   "cell_type": "code",
   "execution_count": 26,
   "metadata": {},
   "outputs": [
    {
     "data": {
      "image/png": "[encoded data removed]",
      "text/plain": [
       "<Figure size 432x288 with 1 Axes>"
      ]
     },
     "metadata": {
      "needs_background": "light"
     },
     "output_type": "display_data"
    }
   ],
   "source": [
    "flight_countbar = sns.barplot(x= flight_count.index, y= flight_count)\n",
    "flight_countbar.set_title(\"Jan 2019 vs Jan 2020 Total # of Flight\")\n",
    "flight_countbar.set_ylabel(\"Count of # of Flight\")\n",
    "flight_countbar.yaxis.set_major_formatter(ticker.EngFormatter())"
   ]
  },
  {
   "cell_type": "code",
   "execution_count": 27,
   "metadata": {},
   "outputs": [],
   "source": [
    "df_delayed = df_2020[(df_2020[\"ARR_DEL15\"] == 1) | (df_2020[\"DEP_DEL15\"] == 1)]\n",
    "df_delayed2019 = df_2019[(df_2019[\"ARR_DEL15\"] == 1) | (df_2019[\"DEP_DEL15\"] == 1)]"
   ]
  },
  {
   "cell_type": "code",
   "execution_count": 28,
   "metadata": {},
   "outputs": [],
   "source": [
    "top10carrier = df_delayed[\"OP_CARRIER\"].value_counts()[:10]\n",
    "top10carrier2019 = df_delayed2019[\"OP_CARRIER\"].value_counts()[:10]"
   ]
  },
  {
   "cell_type": "code",
   "execution_count": 29,
   "metadata": {},
   "outputs": [
    {
     "data": {
      "image/png": "[encoded data removed]",
      "text/plain": [
       "<Figure size 864x432 with 2 Axes>"
      ]
     },
     "metadata": {
      "needs_background": "light"
     },
     "output_type": "display_data"
    }
   ],
   "source": [
    "fig, axs = plt.subplots(1,2, figsize= (12,6))\n",
    "\n",
    "top10carrierbar2020 = sns.barplot(x= top10carrier.index, y= top10carrier, ax= axs[0])\n",
    "top10carrierbar2020.set_title(\"2020 Top 10 Delay Carrier\")\n",
    "top10carrierbar2020.set_ylabel(\"Count of # of delay flight\")\n",
    "top10carrierbar2020.yaxis.set_major_formatter(ticker.EngFormatter())\n",
    "\n",
    "top10carrierbar2019 = sns.barplot(x= top10carrier2019.index, y= top10carrier2019, ax= axs[1])\n",
    "top10carrierbar2019.set_title(\"2019 Top 10 Delay Carrier\")\n",
    "top10carrierbar2019.set_ylabel(\"Count of # of delay flight\")\n",
    "top10carrierbar2019.yaxis.set_major_formatter(ticker.EngFormatter())"
   ]
  },
  {
   "source": [
    "***\n",
    "## Model Building"
   ],
   "cell_type": "markdown",
   "metadata": {}
  },
  {
   "cell_type": "code",
   "execution_count": 30,
   "metadata": {},
   "outputs": [
    {
     "data": {
      "text/plain": [
       "DAY_OF_MONTH           int64\n",
       "DAY_OF_WEEK            int64\n",
       "OP_CARRIER            object\n",
       "OP_CARRIER_FL_NUM      int64\n",
       "ORIGIN                object\n",
       "DEST                  object\n",
       "DEP_TIME             float64\n",
       "DEP_DEL15            float64\n",
       "DEP_TIME_BLK          object\n",
       "ARR_TIME             float64\n",
       "ARR_DEL15            float64\n",
       "CANCELLED            float64\n",
       "DIVERTED             float64\n",
       "DISTANCE             float64\n",
       "year                  object\n",
       "dtype: object"
      ]
     },
     "execution_count": 30,
     "metadata": {},
     "output_type": "execute_result"
    }
   ],
   "source": [
    "df.dtypes"
   ]
  },
  {
   "cell_type": "code",
   "execution_count": 31,
   "metadata": {
    "scrolled": true
   },
   "outputs": [
    {
     "data": {
      "text/html": [
       "<div>\n",
       "<style scoped>\n",
       "    .dataframe tbody tr th:only-of-type {\n",
       "        vertical-align: middle;\n",
       "    }\n",
       "\n",
       "    .dataframe tbody tr th {\n",
       "        vertical-align: top;\n",
       "    }\n",
       "\n",
       "    .dataframe thead th {\n",
       "        text-align: right;\n",
       "    }\n",
       "</style>\n",
       "<table border=\"1\" class=\"dataframe\">\n",
       "  <thead>\n",
       "    <tr style=\"text-align: right;\">\n",
       "      <th></th>\n",
       "      <th>DAY_OF_MONTH</th>\n",
       "      <th>DAY_OF_WEEK</th>\n",
       "      <th>OP_CARRIER</th>\n",
       "      <th>OP_CARRIER_FL_NUM</th>\n",
       "      <th>ORIGIN</th>\n",
       "      <th>DEST</th>\n",
       "      <th>DEP_TIME</th>\n",
       "      <th>DEP_DEL15</th>\n",
       "      <th>DEP_TIME_BLK</th>\n",
       "      <th>ARR_TIME</th>\n",
       "      <th>ARR_DEL15</th>\n",
       "      <th>CANCELLED</th>\n",
       "      <th>DIVERTED</th>\n",
       "      <th>DISTANCE</th>\n",
       "      <th>year</th>\n",
       "    </tr>\n",
       "  </thead>\n",
       "  <tbody>\n",
       "    <tr>\n",
       "      <th>0</th>\n",
       "      <td>1</td>\n",
       "      <td>2</td>\n",
       "      <td>9E</td>\n",
       "      <td>3280</td>\n",
       "      <td>GNV</td>\n",
       "      <td>ATL</td>\n",
       "      <td>601.0</td>\n",
       "      <td>0.0</td>\n",
       "      <td>0600-0659</td>\n",
       "      <td>722.0</td>\n",
       "      <td>0.0</td>\n",
       "      <td>0.0</td>\n",
       "      <td>0.0</td>\n",
       "      <td>300.0</td>\n",
       "      <td>2019</td>\n",
       "    </tr>\n",
       "    <tr>\n",
       "      <th>1</th>\n",
       "      <td>1</td>\n",
       "      <td>2</td>\n",
       "      <td>9E</td>\n",
       "      <td>3281</td>\n",
       "      <td>MSP</td>\n",
       "      <td>CVG</td>\n",
       "      <td>1359.0</td>\n",
       "      <td>0.0</td>\n",
       "      <td>1400-1459</td>\n",
       "      <td>1633.0</td>\n",
       "      <td>0.0</td>\n",
       "      <td>0.0</td>\n",
       "      <td>0.0</td>\n",
       "      <td>596.0</td>\n",
       "      <td>2019</td>\n",
       "    </tr>\n",
       "    <tr>\n",
       "      <th>2</th>\n",
       "      <td>1</td>\n",
       "      <td>2</td>\n",
       "      <td>9E</td>\n",
       "      <td>3282</td>\n",
       "      <td>DTW</td>\n",
       "      <td>CVG</td>\n",
       "      <td>1215.0</td>\n",
       "      <td>0.0</td>\n",
       "      <td>1200-1259</td>\n",
       "      <td>1329.0</td>\n",
       "      <td>0.0</td>\n",
       "      <td>0.0</td>\n",
       "      <td>0.0</td>\n",
       "      <td>229.0</td>\n",
       "      <td>2019</td>\n",
       "    </tr>\n",
       "    <tr>\n",
       "      <th>3</th>\n",
       "      <td>1</td>\n",
       "      <td>2</td>\n",
       "      <td>9E</td>\n",
       "      <td>3283</td>\n",
       "      <td>TLH</td>\n",
       "      <td>ATL</td>\n",
       "      <td>1521.0</td>\n",
       "      <td>0.0</td>\n",
       "      <td>1500-1559</td>\n",
       "      <td>1625.0</td>\n",
       "      <td>0.0</td>\n",
       "      <td>0.0</td>\n",
       "      <td>0.0</td>\n",
       "      <td>223.0</td>\n",
       "      <td>2019</td>\n",
       "    </tr>\n",
       "    <tr>\n",
       "      <th>4</th>\n",
       "      <td>1</td>\n",
       "      <td>2</td>\n",
       "      <td>9E</td>\n",
       "      <td>3284</td>\n",
       "      <td>ATL</td>\n",
       "      <td>FSM</td>\n",
       "      <td>1847.0</td>\n",
       "      <td>0.0</td>\n",
       "      <td>1900-1959</td>\n",
       "      <td>1940.0</td>\n",
       "      <td>0.0</td>\n",
       "      <td>0.0</td>\n",
       "      <td>0.0</td>\n",
       "      <td>579.0</td>\n",
       "      <td>2019</td>\n",
       "    </tr>\n",
       "  </tbody>\n",
       "</table>\n",
       "</div>"
      ],
      "text/plain": [
       "   DAY_OF_MONTH  DAY_OF_WEEK OP_CARRIER  OP_CARRIER_FL_NUM ORIGIN DEST  \\\n",
       "0             1            2         9E               3280    GNV  ATL   \n",
       "1             1            2         9E               3281    MSP  CVG   \n",
       "2             1            2         9E               3282    DTW  CVG   \n",
       "3             1            2         9E               3283    TLH  ATL   \n",
       "4             1            2         9E               3284    ATL  FSM   \n",
       "\n",
       "   DEP_TIME  DEP_DEL15 DEP_TIME_BLK  ARR_TIME  ARR_DEL15  CANCELLED  DIVERTED  \\\n",
       "0     601.0        0.0    0600-0659     722.0        0.0        0.0       0.0   \n",
       "1    1359.0        0.0    1400-1459    1633.0        0.0        0.0       0.0   \n",
       "2    1215.0        0.0    1200-1259    1329.0        0.0        0.0       0.0   \n",
       "3    1521.0        0.0    1500-1559    1625.0        0.0        0.0       0.0   \n",
       "4    1847.0        0.0    1900-1959    1940.0        0.0        0.0       0.0   \n",
       "\n",
       "   DISTANCE  year  \n",
       "0     300.0  2019  \n",
       "1     596.0  2019  \n",
       "2     229.0  2019  \n",
       "3     223.0  2019  \n",
       "4     579.0  2019  "
      ]
     },
     "execution_count": 31,
     "metadata": {},
     "output_type": "execute_result"
    }
   ],
   "source": [
    "df.head()"
   ]
  },
  {
   "cell_type": "code",
   "execution_count": 32,
   "metadata": {},
   "outputs": [],
   "source": [
    "#functions for converting time to time blk\n",
    "def arrtimeblk(x):\n",
    "    if x >= 600 and x <= 659:\n",
    "        return '0600-0659'\n",
    "    elif x>=1400 and x<=1459:\n",
    "        return '1400-1459'\n",
    "    elif x>=1200 and x<=1259:\n",
    "        return '1200-1259'\n",
    "    elif x>=1500 and x<=1559:\n",
    "        return '1500-1559'\n",
    "    elif x>=1900 and x<=1959:\n",
    "        return '1900-1959'\n",
    "    elif x>=900 and x<=959:\n",
    "        return '0900-0959'\n",
    "    elif x>=1000 and x<=1059:\n",
    "        return  '1000-1059'\n",
    "    elif x>=2000 and x<=2059:\n",
    "        return '2000-2059'\n",
    "    elif x>=1300 and x<=1359:\n",
    "        return '1300-1359'\n",
    "    elif x>=1100 and x<=1159:\n",
    "        return '1100-1159'\n",
    "    elif x>=800 and x<=859:\n",
    "        return '0800-0859'\n",
    "    elif x>=2200 and x<=2259:\n",
    "        return '2200-2259'\n",
    "    elif x>=1600 and x<=1659:\n",
    "        return '1600-1659'\n",
    "    elif x>=1700 and x<=1759:\n",
    "        return '1700-1759'\n",
    "    elif x>=2100 and x<=2159:\n",
    "        return '2100-2159'\n",
    "    elif x>=700 and x<=759:\n",
    "        return '0700-0759'\n",
    "    elif x>=1800 and x<=1859:\n",
    "        return '1800-1859'\n",
    "    elif x>=1 and x<=559:\n",
    "        return '0001-0559'\n",
    "    elif x>=2300 and x<=2400:\n",
    "        return '2300-2400'"
   ]
  },
  {
   "cell_type": "code",
   "execution_count": 33,
   "metadata": {},
   "outputs": [],
   "source": [
    "df[\"ARR_TIME_BLK\"] = df[\"ARR_TIME\"].apply(arrtimeblk)"
   ]
  },
  {
   "cell_type": "code",
   "execution_count": 34,
   "metadata": {},
   "outputs": [
    {
     "data": {
      "text/plain": [
       "DAY_OF_MONTH           int64\n",
       "DAY_OF_WEEK            int64\n",
       "OP_CARRIER            object\n",
       "OP_CARRIER_FL_NUM      int64\n",
       "ORIGIN                object\n",
       "DEST                  object\n",
       "DEP_TIME             float64\n",
       "DEP_DEL15            float64\n",
       "DEP_TIME_BLK          object\n",
       "ARR_TIME             float64\n",
       "ARR_DEL15            float64\n",
       "CANCELLED            float64\n",
       "DIVERTED             float64\n",
       "DISTANCE             float64\n",
       "year                  object\n",
       "ARR_TIME_BLK          object\n",
       "dtype: object"
      ]
     },
     "execution_count": 34,
     "metadata": {},
     "output_type": "execute_result"
    }
   ],
   "source": [
    "df.dtypes"
   ]
  },
  {
   "cell_type": "code",
   "execution_count": 35,
   "metadata": {},
   "outputs": [],
   "source": [
    "# drop irrelevant and unmodified columns to increase efficiency \n",
    "dfmodel = df.drop([\"DEP_TIME\", \"ARR_TIME\", \"CANCELLED\", \"DIVERTED\", \"OP_CARRIER\"], axis= 1)"
   ]
  },
  {
   "cell_type": "code",
   "execution_count": 36,
   "metadata": {},
   "outputs": [
    {
     "data": {
      "text/plain": [
       "DAY_OF_MONTH           int64\n",
       "DAY_OF_WEEK            int64\n",
       "OP_CARRIER_FL_NUM      int64\n",
       "ORIGIN                object\n",
       "DEST                  object\n",
       "DEP_DEL15            float64\n",
       "DEP_TIME_BLK          object\n",
       "ARR_DEL15            float64\n",
       "DISTANCE             float64\n",
       "year                  object\n",
       "ARR_TIME_BLK          object\n",
       "dtype: object"
      ]
     },
     "execution_count": 36,
     "metadata": {},
     "output_type": "execute_result"
    }
   ],
   "source": [
    "dfmodel.dtypes"
   ]
  },
  {
   "cell_type": "code",
   "execution_count": 37,
   "metadata": {},
   "outputs": [],
   "source": [
    "dfmodel = dfmodel.astype({\n",
    "    \"ORIGIN\":\"category\",\n",
    "    \"DEST\":\"category\",\n",
    "    \"DEP_TIME_BLK\":\"category\",\n",
    "    \"ARR_TIME_BLK\":\"category\",\n",
    "    \"year\":\"int64\",\n",
    "    \"DEP_DEL15\":\"int64\",\n",
    "    \"ARR_DEL15\":\"int64\"\n",
    "})"
   ]
  },
  {
   "cell_type": "code",
   "execution_count": 38,
   "metadata": {},
   "outputs": [
    {
     "data": {
      "text/plain": [
       "DAY_OF_MONTH            int64\n",
       "DAY_OF_WEEK             int64\n",
       "OP_CARRIER_FL_NUM       int64\n",
       "ORIGIN               category\n",
       "DEST                 category\n",
       "DEP_DEL15               int64\n",
       "DEP_TIME_BLK         category\n",
       "ARR_DEL15               int64\n",
       "DISTANCE              float64\n",
       "year                    int64\n",
       "ARR_TIME_BLK         category\n",
       "dtype: object"
      ]
     },
     "execution_count": 38,
     "metadata": {},
     "output_type": "execute_result"
    }
   ],
   "source": [
    "dfmodel.dtypes"
   ]
  },
  {
   "cell_type": "code",
   "execution_count": 39,
   "metadata": {},
   "outputs": [],
   "source": [
    "#Due to the computing power limit, I only use data from 2020 to train and test the model. \n",
    "dfmodel = pd.get_dummies(dfmodel)\n",
    "dfmodel = dfmodel[dfmodel[\"year\"] == 2020]"
   ]
  },
  {
   "cell_type": "code",
   "execution_count": 40,
   "metadata": {},
   "outputs": [],
   "source": [
    "X = dfmodel.drop(\"ARR_DEL15\", axis= 1)\n",
    "y = dfmodel[\"ARR_DEL15\"]"
   ]
  },
  {
   "cell_type": "code",
   "execution_count": 41,
   "metadata": {},
   "outputs": [
    {
     "data": {
      "text/plain": [
       "DAY_OF_MONTH                int64\n",
       "DAY_OF_WEEK                 int64\n",
       "OP_CARRIER_FL_NUM           int64\n",
       "DEP_DEL15                   int64\n",
       "DISTANCE                  float64\n",
       "                           ...   \n",
       "ARR_TIME_BLK_1900-1959      uint8\n",
       "ARR_TIME_BLK_2000-2059      uint8\n",
       "ARR_TIME_BLK_2100-2159      uint8\n",
       "ARR_TIME_BLK_2200-2259      uint8\n",
       "ARR_TIME_BLK_2300-2400      uint8\n",
       "Length: 750, dtype: object"
      ]
     },
     "execution_count": 41,
     "metadata": {},
     "output_type": "execute_result"
    }
   ],
   "source": [
    "X.dtypes"
   ]
  },
  {
   "cell_type": "code",
   "execution_count": 42,
   "metadata": {},
   "outputs": [],
   "source": [
    "X_train, X_test, y_train, y_test = train_test_split(X, y, test_size= 0.2, stratify= y)"
   ]
  },
  {
   "cell_type": "code",
   "execution_count": 43,
   "metadata": {
    "scrolled": true
   },
   "outputs": [
    {
     "data": {
      "text/html": [
       "<div>\n",
       "<style scoped>\n",
       "    .dataframe tbody tr th:only-of-type {\n",
       "        vertical-align: middle;\n",
       "    }\n",
       "\n",
       "    .dataframe tbody tr th {\n",
       "        vertical-align: top;\n",
       "    }\n",
       "\n",
       "    .dataframe thead th {\n",
       "        text-align: right;\n",
       "    }\n",
       "</style>\n",
       "<table border=\"1\" class=\"dataframe\">\n",
       "  <thead>\n",
       "    <tr style=\"text-align: right;\">\n",
       "      <th></th>\n",
       "      <th>DAY_OF_MONTH</th>\n",
       "      <th>DAY_OF_WEEK</th>\n",
       "      <th>OP_CARRIER_FL_NUM</th>\n",
       "      <th>DEP_DEL15</th>\n",
       "      <th>ARR_DEL15</th>\n",
       "      <th>DISTANCE</th>\n",
       "      <th>year</th>\n",
       "      <th>ORIGIN_ABE</th>\n",
       "      <th>ORIGIN_ABI</th>\n",
       "      <th>ORIGIN_ABQ</th>\n",
       "      <th>...</th>\n",
       "      <th>ARR_TIME_BLK_1400-1459</th>\n",
       "      <th>ARR_TIME_BLK_1500-1559</th>\n",
       "      <th>ARR_TIME_BLK_1600-1659</th>\n",
       "      <th>ARR_TIME_BLK_1700-1759</th>\n",
       "      <th>ARR_TIME_BLK_1800-1859</th>\n",
       "      <th>ARR_TIME_BLK_1900-1959</th>\n",
       "      <th>ARR_TIME_BLK_2000-2059</th>\n",
       "      <th>ARR_TIME_BLK_2100-2159</th>\n",
       "      <th>ARR_TIME_BLK_2200-2259</th>\n",
       "      <th>ARR_TIME_BLK_2300-2400</th>\n",
       "    </tr>\n",
       "  </thead>\n",
       "  <tbody>\n",
       "    <tr>\n",
       "      <th>583985</th>\n",
       "      <td>1</td>\n",
       "      <td>3</td>\n",
       "      <td>4397</td>\n",
       "      <td>0</td>\n",
       "      <td>0</td>\n",
       "      <td>174.0</td>\n",
       "      <td>2020</td>\n",
       "      <td>0</td>\n",
       "      <td>0</td>\n",
       "      <td>0</td>\n",
       "      <td>...</td>\n",
       "      <td>0</td>\n",
       "      <td>0</td>\n",
       "      <td>0</td>\n",
       "      <td>0</td>\n",
       "      <td>0</td>\n",
       "      <td>0</td>\n",
       "      <td>0</td>\n",
       "      <td>0</td>\n",
       "      <td>0</td>\n",
       "      <td>0</td>\n",
       "    </tr>\n",
       "    <tr>\n",
       "      <th>583986</th>\n",
       "      <td>1</td>\n",
       "      <td>3</td>\n",
       "      <td>4401</td>\n",
       "      <td>0</td>\n",
       "      <td>0</td>\n",
       "      <td>585.0</td>\n",
       "      <td>2020</td>\n",
       "      <td>0</td>\n",
       "      <td>0</td>\n",
       "      <td>0</td>\n",
       "      <td>...</td>\n",
       "      <td>0</td>\n",
       "      <td>0</td>\n",
       "      <td>0</td>\n",
       "      <td>0</td>\n",
       "      <td>0</td>\n",
       "      <td>0</td>\n",
       "      <td>0</td>\n",
       "      <td>0</td>\n",
       "      <td>0</td>\n",
       "      <td>0</td>\n",
       "    </tr>\n",
       "    <tr>\n",
       "      <th>583987</th>\n",
       "      <td>1</td>\n",
       "      <td>3</td>\n",
       "      <td>4404</td>\n",
       "      <td>0</td>\n",
       "      <td>0</td>\n",
       "      <td>631.0</td>\n",
       "      <td>2020</td>\n",
       "      <td>0</td>\n",
       "      <td>0</td>\n",
       "      <td>0</td>\n",
       "      <td>...</td>\n",
       "      <td>0</td>\n",
       "      <td>0</td>\n",
       "      <td>0</td>\n",
       "      <td>0</td>\n",
       "      <td>0</td>\n",
       "      <td>0</td>\n",
       "      <td>0</td>\n",
       "      <td>1</td>\n",
       "      <td>0</td>\n",
       "      <td>0</td>\n",
       "    </tr>\n",
       "    <tr>\n",
       "      <th>583988</th>\n",
       "      <td>1</td>\n",
       "      <td>3</td>\n",
       "      <td>4405</td>\n",
       "      <td>0</td>\n",
       "      <td>0</td>\n",
       "      <td>253.0</td>\n",
       "      <td>2020</td>\n",
       "      <td>0</td>\n",
       "      <td>0</td>\n",
       "      <td>0</td>\n",
       "      <td>...</td>\n",
       "      <td>0</td>\n",
       "      <td>0</td>\n",
       "      <td>0</td>\n",
       "      <td>0</td>\n",
       "      <td>0</td>\n",
       "      <td>0</td>\n",
       "      <td>1</td>\n",
       "      <td>0</td>\n",
       "      <td>0</td>\n",
       "      <td>0</td>\n",
       "    </tr>\n",
       "    <tr>\n",
       "      <th>583989</th>\n",
       "      <td>1</td>\n",
       "      <td>3</td>\n",
       "      <td>4407</td>\n",
       "      <td>0</td>\n",
       "      <td>0</td>\n",
       "      <td>1157.0</td>\n",
       "      <td>2020</td>\n",
       "      <td>0</td>\n",
       "      <td>0</td>\n",
       "      <td>0</td>\n",
       "      <td>...</td>\n",
       "      <td>0</td>\n",
       "      <td>0</td>\n",
       "      <td>0</td>\n",
       "      <td>0</td>\n",
       "      <td>0</td>\n",
       "      <td>0</td>\n",
       "      <td>0</td>\n",
       "      <td>0</td>\n",
       "      <td>0</td>\n",
       "      <td>0</td>\n",
       "    </tr>\n",
       "    <tr>\n",
       "      <th>...</th>\n",
       "      <td>...</td>\n",
       "      <td>...</td>\n",
       "      <td>...</td>\n",
       "      <td>...</td>\n",
       "      <td>...</td>\n",
       "      <td>...</td>\n",
       "      <td>...</td>\n",
       "      <td>...</td>\n",
       "      <td>...</td>\n",
       "      <td>...</td>\n",
       "      <td>...</td>\n",
       "      <td>...</td>\n",
       "      <td>...</td>\n",
       "      <td>...</td>\n",
       "      <td>...</td>\n",
       "      <td>...</td>\n",
       "      <td>...</td>\n",
       "      <td>...</td>\n",
       "      <td>...</td>\n",
       "      <td>...</td>\n",
       "      <td>...</td>\n",
       "    </tr>\n",
       "    <tr>\n",
       "      <th>1191326</th>\n",
       "      <td>31</td>\n",
       "      <td>5</td>\n",
       "      <td>4812</td>\n",
       "      <td>1</td>\n",
       "      <td>1</td>\n",
       "      <td>443.0</td>\n",
       "      <td>2020</td>\n",
       "      <td>0</td>\n",
       "      <td>0</td>\n",
       "      <td>0</td>\n",
       "      <td>...</td>\n",
       "      <td>0</td>\n",
       "      <td>0</td>\n",
       "      <td>0</td>\n",
       "      <td>0</td>\n",
       "      <td>0</td>\n",
       "      <td>0</td>\n",
       "      <td>0</td>\n",
       "      <td>0</td>\n",
       "      <td>0</td>\n",
       "      <td>0</td>\n",
       "    </tr>\n",
       "    <tr>\n",
       "      <th>1191327</th>\n",
       "      <td>31</td>\n",
       "      <td>5</td>\n",
       "      <td>4813</td>\n",
       "      <td>0</td>\n",
       "      <td>0</td>\n",
       "      <td>509.0</td>\n",
       "      <td>2020</td>\n",
       "      <td>0</td>\n",
       "      <td>0</td>\n",
       "      <td>0</td>\n",
       "      <td>...</td>\n",
       "      <td>0</td>\n",
       "      <td>0</td>\n",
       "      <td>0</td>\n",
       "      <td>0</td>\n",
       "      <td>0</td>\n",
       "      <td>1</td>\n",
       "      <td>0</td>\n",
       "      <td>0</td>\n",
       "      <td>0</td>\n",
       "      <td>0</td>\n",
       "    </tr>\n",
       "    <tr>\n",
       "      <th>1191328</th>\n",
       "      <td>31</td>\n",
       "      <td>5</td>\n",
       "      <td>4814</td>\n",
       "      <td>0</td>\n",
       "      <td>0</td>\n",
       "      <td>610.0</td>\n",
       "      <td>2020</td>\n",
       "      <td>0</td>\n",
       "      <td>0</td>\n",
       "      <td>0</td>\n",
       "      <td>...</td>\n",
       "      <td>0</td>\n",
       "      <td>0</td>\n",
       "      <td>0</td>\n",
       "      <td>0</td>\n",
       "      <td>0</td>\n",
       "      <td>0</td>\n",
       "      <td>0</td>\n",
       "      <td>0</td>\n",
       "      <td>0</td>\n",
       "      <td>0</td>\n",
       "    </tr>\n",
       "    <tr>\n",
       "      <th>1191329</th>\n",
       "      <td>31</td>\n",
       "      <td>5</td>\n",
       "      <td>4815</td>\n",
       "      <td>0</td>\n",
       "      <td>0</td>\n",
       "      <td>589.0</td>\n",
       "      <td>2020</td>\n",
       "      <td>0</td>\n",
       "      <td>0</td>\n",
       "      <td>0</td>\n",
       "      <td>...</td>\n",
       "      <td>0</td>\n",
       "      <td>0</td>\n",
       "      <td>0</td>\n",
       "      <td>0</td>\n",
       "      <td>1</td>\n",
       "      <td>0</td>\n",
       "      <td>0</td>\n",
       "      <td>0</td>\n",
       "      <td>0</td>\n",
       "      <td>0</td>\n",
       "    </tr>\n",
       "    <tr>\n",
       "      <th>1191330</th>\n",
       "      <td>31</td>\n",
       "      <td>5</td>\n",
       "      <td>4815</td>\n",
       "      <td>0</td>\n",
       "      <td>0</td>\n",
       "      <td>589.0</td>\n",
       "      <td>2020</td>\n",
       "      <td>0</td>\n",
       "      <td>0</td>\n",
       "      <td>0</td>\n",
       "      <td>...</td>\n",
       "      <td>0</td>\n",
       "      <td>0</td>\n",
       "      <td>0</td>\n",
       "      <td>0</td>\n",
       "      <td>0</td>\n",
       "      <td>0</td>\n",
       "      <td>0</td>\n",
       "      <td>1</td>\n",
       "      <td>0</td>\n",
       "      <td>0</td>\n",
       "    </tr>\n",
       "  </tbody>\n",
       "</table>\n",
       "<p>599268 rows × 751 columns</p>\n",
       "</div>"
      ],
      "text/plain": [
       "         DAY_OF_MONTH  DAY_OF_WEEK  OP_CARRIER_FL_NUM  DEP_DEL15  ARR_DEL15  \\\n",
       "583985              1            3               4397          0          0   \n",
       "583986              1            3               4401          0          0   \n",
       "583987              1            3               4404          0          0   \n",
       "583988              1            3               4405          0          0   \n",
       "583989              1            3               4407          0          0   \n",
       "...               ...          ...                ...        ...        ...   \n",
       "1191326            31            5               4812          1          1   \n",
       "1191327            31            5               4813          0          0   \n",
       "1191328            31            5               4814          0          0   \n",
       "1191329            31            5               4815          0          0   \n",
       "1191330            31            5               4815          0          0   \n",
       "\n",
       "         DISTANCE  year  ORIGIN_ABE  ORIGIN_ABI  ORIGIN_ABQ  ...  \\\n",
       "583985      174.0  2020           0           0           0  ...   \n",
       "583986      585.0  2020           0           0           0  ...   \n",
       "583987      631.0  2020           0           0           0  ...   \n",
       "583988      253.0  2020           0           0           0  ...   \n",
       "583989     1157.0  2020           0           0           0  ...   \n",
       "...           ...   ...         ...         ...         ...  ...   \n",
       "1191326     443.0  2020           0           0           0  ...   \n",
       "1191327     509.0  2020           0           0           0  ...   \n",
       "1191328     610.0  2020           0           0           0  ...   \n",
       "1191329     589.0  2020           0           0           0  ...   \n",
       "1191330     589.0  2020           0           0           0  ...   \n",
       "\n",
       "         ARR_TIME_BLK_1400-1459  ARR_TIME_BLK_1500-1559  \\\n",
       "583985                        0                       0   \n",
       "583986                        0                       0   \n",
       "583987                        0                       0   \n",
       "583988                        0                       0   \n",
       "583989                        0                       0   \n",
       "...                         ...                     ...   \n",
       "1191326                       0                       0   \n",
       "1191327                       0                       0   \n",
       "1191328                       0                       0   \n",
       "1191329                       0                       0   \n",
       "1191330                       0                       0   \n",
       "\n",
       "         ARR_TIME_BLK_1600-1659  ARR_TIME_BLK_1700-1759  \\\n",
       "583985                        0                       0   \n",
       "583986                        0                       0   \n",
       "583987                        0                       0   \n",
       "583988                        0                       0   \n",
       "583989                        0                       0   \n",
       "...                         ...                     ...   \n",
       "1191326                       0                       0   \n",
       "1191327                       0                       0   \n",
       "1191328                       0                       0   \n",
       "1191329                       0                       0   \n",
       "1191330                       0                       0   \n",
       "\n",
       "         ARR_TIME_BLK_1800-1859  ARR_TIME_BLK_1900-1959  \\\n",
       "583985                        0                       0   \n",
       "583986                        0                       0   \n",
       "583987                        0                       0   \n",
       "583988                        0                       0   \n",
       "583989                        0                       0   \n",
       "...                         ...                     ...   \n",
       "1191326                       0                       0   \n",
       "1191327                       0                       1   \n",
       "1191328                       0                       0   \n",
       "1191329                       1                       0   \n",
       "1191330                       0                       0   \n",
       "\n",
       "         ARR_TIME_BLK_2000-2059  ARR_TIME_BLK_2100-2159  \\\n",
       "583985                        0                       0   \n",
       "583986                        0                       0   \n",
       "583987                        0                       1   \n",
       "583988                        1                       0   \n",
       "583989                        0                       0   \n",
       "...                         ...                     ...   \n",
       "1191326                       0                       0   \n",
       "1191327                       0                       0   \n",
       "1191328                       0                       0   \n",
       "1191329                       0                       0   \n",
       "1191330                       0                       1   \n",
       "\n",
       "         ARR_TIME_BLK_2200-2259  ARR_TIME_BLK_2300-2400  \n",
       "583985                        0                       0  \n",
       "583986                        0                       0  \n",
       "583987                        0                       0  \n",
       "583988                        0                       0  \n",
       "583989                        0                       0  \n",
       "...                         ...                     ...  \n",
       "1191326                       0                       0  \n",
       "1191327                       0                       0  \n",
       "1191328                       0                       0  \n",
       "1191329                       0                       0  \n",
       "1191330                       0                       0  \n",
       "\n",
       "[599268 rows x 751 columns]"
      ]
     },
     "execution_count": 43,
     "metadata": {},
     "output_type": "execute_result"
    }
   ],
   "source": [
    "dfmodel"
   ]
  },
  {
   "cell_type": "markdown",
   "metadata": {},
   "source": [
    "Decision Tree"
   ]
  },
  {
   "cell_type": "code",
   "execution_count": 79,
   "metadata": {},
   "outputs": [],
   "source": [
    "dtc = DecisionTreeClassifier()"
   ]
  },
  {
   "cell_type": "code",
   "execution_count": 46,
   "metadata": {},
   "outputs": [
    {
     "data": {
      "text/plain": [
       "DecisionTreeClassifier()"
      ]
     },
     "execution_count": 46,
     "metadata": {},
     "output_type": "execute_result"
    }
   ],
   "source": [
    "dtc.fit(X_train, y_train)"
   ]
  },
  {
   "cell_type": "code",
   "execution_count": 57,
   "metadata": {},
   "outputs": [
    {
     "name": "stdout",
     "output_type": "stream",
     "text": [
      "0.9006466506756148\n",
      "0.6894081665504104\n"
     ]
    }
   ],
   "source": [
    "ypreddtc = dtc.predict(X_test)\n",
    "print(accuracy_score(ypreddtc, y_test))\n",
    "print(f1_score(ypreddtc, y_test))"
   ]
  },
  {
   "cell_type": "code",
   "execution_count": 81,
   "metadata": {},
   "outputs": [],
   "source": [
    "parameters = {\n",
    "    \"criterion\":(\"gini\", \"entropy\"),\n",
    "    \"max_features\":(\"auto\", \"sqrt\", \"log2\"),\n",
    "    'min_samples_split': range(2, 403, 10)\n",
    "}"
   ]
  },
  {
   "cell_type": "code",
   "execution_count": 85,
   "metadata": {},
   "outputs": [],
   "source": [
    "gsdtc = RandomizedSearchCV(dtc, parameters, scoring= \"f1\")"
   ]
  },
  {
   "cell_type": "code",
   "execution_count": 86,
   "metadata": {},
   "outputs": [
    {
     "data": {
      "text/plain": [
       "RandomizedSearchCV(estimator=DecisionTreeClassifier(),\n",
       "                   param_distributions={'criterion': ('gini', 'entropy'),\n",
       "                                        'max_features': ('auto', 'sqrt',\n",
       "                                                         'log2'),\n",
       "                                        'min_samples_split': range(2, 403, 10)},\n",
       "                   scoring='f1')"
      ]
     },
     "execution_count": 86,
     "metadata": {},
     "output_type": "execute_result"
    }
   ],
   "source": [
    "gsdtc.fit(X_train, y_train)"
   ]
  },
  {
   "cell_type": "code",
   "execution_count": 87,
   "metadata": {},
   "outputs": [
    {
     "data": {
      "text/plain": [
       "0.7012670625879901"
      ]
     },
     "execution_count": 87,
     "metadata": {},
     "output_type": "execute_result"
    }
   ],
   "source": [
    "gsdtc.best_score_"
   ]
  },
  {
   "source": [
    "After tuning the hyperparameters of Decision Tree Classifier, we get a f1 score of 0.70."
   ],
   "cell_type": "markdown",
   "metadata": {}
  },
  {
   "cell_type": "markdown",
   "metadata": {},
   "source": [
    "Random Forest"
   ]
  },
  {
   "cell_type": "code",
   "execution_count": 91,
   "metadata": {},
   "outputs": [
    {
     "data": {
      "text/plain": [
       "RandomForestClassifier()"
      ]
     },
     "execution_count": 91,
     "metadata": {},
     "output_type": "execute_result"
    }
   ],
   "source": [
    "rf = RandomForestClassifier()\n",
    "rf.fit(X_train, y_train)"
   ]
  },
  {
   "cell_type": "code",
   "execution_count": 92,
   "metadata": {},
   "outputs": [
    {
     "name": "stdout",
     "output_type": "stream",
     "text": [
      "0.9368398217831695\n",
      "0.7574339912842861\n"
     ]
    }
   ],
   "source": [
    "ypredrf = rf.predict(X_test)\n",
    "print(accuracy_score(ypredrf, y_test))\n",
    "print(f1_score(ypredrf, y_test))"
   ]
  },
  {
   "cell_type": "code",
   "execution_count": 93,
   "metadata": {},
   "outputs": [],
   "source": [
    "parameters = {\n",
    "    \"n_estimators\":range(10,200,10),\n",
    "    \"criterion\":(\"gini\", \"entropy\"),\n",
    "    \"max_features\":(\"auto\", \"sqrt\", \"log2\")\n",
    "}"
   ]
  },
  {
   "cell_type": "code",
   "execution_count": 94,
   "metadata": {},
   "outputs": [],
   "source": [
    "gsrf = RandomizedSearchCV(rf, parameters, scoring= \"f1\")"
   ]
  },
  {
   "cell_type": "code",
   "execution_count": 95,
   "metadata": {},
   "outputs": [
    {
     "data": {
      "text/plain": [
       "RandomizedSearchCV(estimator=RandomForestClassifier(),\n",
       "                   param_distributions={'criterion': ('gini', 'entropy'),\n",
       "                                        'max_features': ('auto', 'sqrt',\n",
       "                                                         'log2'),\n",
       "                                        'n_estimators': range(10, 200, 10)},\n",
       "                   scoring='f1')"
      ]
     },
     "execution_count": 95,
     "metadata": {},
     "output_type": "execute_result"
    }
   ],
   "source": [
    "gsrf.fit(X_train, y_train)"
   ]
  },
  {
   "cell_type": "code",
   "execution_count": 124,
   "metadata": {},
   "outputs": [
    {
     "data": {
      "text/plain": [
       "0.7536724356866354"
      ]
     },
     "execution_count": 124,
     "metadata": {},
     "output_type": "execute_result"
    }
   ],
   "source": [
    "gsrf.best_score_"
   ]
  },
  {
   "source": [
    "Surprisingly, the best estimator performed worse than default setting. But I did not re-tune the parameters since running the RandomizedSearchCV on this huge dataset is extremely time consuming."
   ],
   "cell_type": "markdown",
   "metadata": {}
  }
 ],
 "metadata": {
  "kernelspec": {
   "display_name": "Python 3.8.5 64-bit ('base': conda)",
   "language": "python",
   "name": "python_defaultSpec_1600557831977"
  },
  "language_info": {
   "codemirror_mode": {
    "name": "ipython",
    "version": 3
   },
   "file_extension": ".py",
   "mimetype": "text/x-python",
   "name": "python",
   "nbconvert_exporter": "python",
   "pygments_lexer": "ipython3",
   "version": "3.8.5-final"
  }
 },
 "nbformat": 4,
 "nbformat_minor": 4
}